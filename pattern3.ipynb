# Importing the libraries
import pandas as pd
from sklearn.model_selection import train_test_split

# Determine the interval of any object
def findInterval(g,partition,shape):
    maximum = []
    minimum = []
    interval = []
    
    if(len(g) != 0):
        for i in range(shape[1]):
            maximum.append(max(partition[g], key=lambda x: x[i])[i])
            minimum.append(min(partition[g], key=lambda x: x[i])[i])
    interval.append(minimum)
    interval.append(maximum)
    return interval

# Determine the number of attributes that lie in the interval
def checkContradiction(intersectedInterval,oppositeInterval,shape):
    count = 0
    for j in range(shape[1]):
        if(intersectedInterval[0][j] <= oppositeInterval[0][j] and oppositeInterval[1][j] <= intersectedInterval[1][j]):
            count = count + 1
    return count

# Determine the intersection of two intervals
def IntervalIntersection(intervals):
    mins = []
    maxs = []
    maximum = []
    minimum = []
    interval = []
    
    for i in range(len(intervals)):
        mins.append(intervals[i][0])
        maxs.append(intervals[i][1])
        
    if(len(intervals) != 0):
        for i in range(X_train.shape[1]):
            maximum.append(max(maxs, key=lambda x: x[i])[i])
            minimum.append(min(mins, key=lambda x: x[i])[i])
    interval.append(minimum)
    interval.append(maximum)
    return interval

# Importing the dataset
dataset = pd.read_csv('PimaIndians.csv')

# Split the dataset into the attributes and the target variable
X = dataset.iloc[:, :-1].values
y = dataset.iloc[:, 8].values

# Split the dataset into training and test set
X_train, X_test, y_train, y_test = train_test_split(X, y, test_size = 0.2, random_state = 0)

# Split the training set into positive and negative classes
pX_train = X_train[y_train == 'positif']
py_train = y_train[y_train == 'positif']

nX_train = X_train[y_train == 'negatif']
ny_train = y_train[y_train == 'negatif']

y_pred = []

# The Lazy classification Algorithm
def lazyclassification():
    global y_pred
    
    # Change value of alpha depending on strictness of contradiction condition
    alpha = X_train.shape[1]
    #alpha = X_train.shape[1]/2
    g = []
    intervals = []
    intersectedInterval = []
    numcontradictions = 0
    count1 = 0
    count2 = 0
    
    # Iterate through all the objects in the test set
    for i in range(X_test.shape[0]):
        g = []
        count1 = 0
        count2 = 0
        
        g.append(i)
        
        # Determine the interval of each test object
        testInterval = findInterval(g,X_test,X_test.shape)
        
        # Iterate through all objects of the positive class
        for j in range(pX_train.shape[0]):
            g = []
            intervals = []
            g.append(j)
            
            # Determine the interval of each positive class training object
            trainInterval = findInterval(g,pX_train,pX_train.shape)
            
            # Determine the intersection of the test object interval with the positive class training object interval
            intervals.append(testInterval)
            intervals.append(trainInterval)
            intersectedInterval = IntervalIntersection(intervals)
            
            # Iterate through all objects of the negative class
            for k in range(nX_train.shape[0]):
                g = []
                g.append(k)
                
                # Determine the interval of each negative class training object
                oppositeInterval = findInterval(g,nX_train,nX_train.shape)
                
                # Determine the number of attributes of the negative class training object that falls into intersected interval
                numcontradictions = checkContradiction(intersectedInterval,oppositeInterval,X_test.shape)
                
                # Check whether the number of contradictions exceed a hyperparamater, if so increase the count by the number of contradictions
                if(numcontradictions >= alpha):
                    count1 = count1 + numcontradictions
                    
        # Similiarly for the negative class 
            
        # Iterate through all objects of the negative class
        for l in range(nX_train.shape[0]):
            g = []
            intervals = []
            g.append(l)
            
            # Determine the interval of each negative class training object
            trainInterval = findInterval(g,nX_train,nX_train.shape)
            
            # Determine the intersection of the test object interval with the negative class training object interval
            intervals.append(testInterval)
            intervals.append(trainInterval)
            intersectedInterval = IntervalIntersection(intervals)
            
            # Iterate through all objects of the positive class
            for m in range(pX_train.shape[0]):
                g = []
                g.append(m)
                
                # Determine the interval of each positive class training object
                oppositeInterval = findInterval(g,pX_train,pX_train.shape)
                
                # Determine the number of attributes of the positive class training object that falls into intersected interval
                numcontradictions = checkContradiction(intersectedInterval,oppositeInterval,X_test.shape)
                
                # Check whether the number of contradictions exceed a hyperparamater, if so increase the count by the number of contradictions
                if(numcontradictions >= alpha):
                    count2 = count2 + numcontradictions
        
        # Determine which class has lower number of contradictions for the test object and assign the test object to that class        
        if(count1>count2):
            y_pred.append('negatif')
        else:
            y_pred.append('positif')
    return y_pred
            
predictions = lazyclassification()

accuracycount = 0

# Calculating the accuracy of the classification
for i in range(len(predictions)):
    if(predictions[i] == y_test[i]):
        accuracycount = accuracycount + 1

accuracy = accuracycount/len(predictions)

print(f'Accuracy:{accuracy}')